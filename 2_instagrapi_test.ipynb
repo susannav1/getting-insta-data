{
 "cells": [
  {
   "cell_type": "code",
   "execution_count": null,
   "id": "eaebf63e",
   "metadata": {},
   "outputs": [],
   "source": [
    "from instagrapi import Client\n",
    "import pandas as pd\n",
    "import time"
   ]
  },
  {
   "cell_type": "code",
   "execution_count": null,
   "id": "34350465",
   "metadata": {},
   "outputs": [],
   "source": [
    "client = Client()"
   ]
  },
  {
   "cell_type": "code",
   "execution_count": null,
   "id": "61373dfe",
   "metadata": {},
   "outputs": [],
   "source": [
    "# Replace \"target_username\" with the actual Instagram username you want to target\n",
    "\n",
    "#medias = client.user_medias(user_id, amount=15)  # Fetch 15 most recent media\n",
    "\n",
    "data_list = []\n",
    "\n",
    "def append_list(user_name):\n",
    "    user = client.user_info_by_username(user_name)\n",
    "    user_id = user.pk\n",
    "    \n",
    "    \n",
    "    for i in range(100):\n",
    "        medias = client.user_medias(user_id, amount=i)[i:i+1]\n",
    "    \n",
    "    for media in medias:\n",
    "\n",
    "        usertags = media.usertags\n",
    "        usernames = [usertag.user.username for usertag in usertags]\n",
    "    \n",
    "        tagged_users = []\n",
    "        counter = 0\n",
    "        for username in usernames:\n",
    "            tagged = client.user_info_by_username(username)\n",
    "            followers = tagged.follower_count\n",
    "            counter += 1\n",
    "            tagged_users.append({\"username\": username, \"followers\": followers})\n",
    "   \n",
    "        data_list.append({\n",
    "            \"Username\": user_name,\n",
    "            \"Follower count:\": user.follower_count,\n",
    "            \"Post ID\": media.pk,\n",
    "            \"Media Type:\": media.media_type,\n",
    "            \"Caption\": media.caption_text,\n",
    "            \"Likes\": media.like_count,\n",
    "            \"Comments\": media.comment_count,\n",
    "            \"Timestamp\": media.taken_at,\n",
    "            \"Tags:\": tagged_users\n",
    "        })\n",
    "    return data_list\n",
    "    "
   ]
  }
 ],
 "metadata": {
  "kernelspec": {
   "display_name": "Python 3 (ipykernel)",
   "language": "python",
   "name": "python3"
  },
  "language_info": {
   "codemirror_mode": {
    "name": "ipython",
    "version": 3
   },
   "file_extension": ".py",
   "mimetype": "text/x-python",
   "name": "python",
   "nbconvert_exporter": "python",
   "pygments_lexer": "ipython3",
   "version": "3.10.9"
  }
 },
 "nbformat": 4,
 "nbformat_minor": 5
}
